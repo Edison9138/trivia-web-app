{
 "cells": [
  {
   "cell_type": "code",
   "execution_count": 2,
   "metadata": {},
   "outputs": [],
   "source": [
    "import pandas as pd\n",
    "from pathlib import Path\n",
    "import json\n",
    "from collections import defaultdict"
   ]
  },
  {
   "cell_type": "code",
   "execution_count": 3,
   "metadata": {},
   "outputs": [],
   "source": [
    "questions_path = Path(\"../data/trivia_questions.json\")\n",
    "with open(questions_path, \"r\") as file:\n",
    "    all_questions = json.load(file)"
   ]
  },
  {
   "cell_type": "code",
   "execution_count": 13,
   "metadata": {},
   "outputs": [],
   "source": [
    "types_set = set()\n",
    "difficulty_set = set()\n",
    "category_set = set()\n",
    "question_set = set()\n",
    "correct_answer_set = set()\n",
    "incorrect_answers_set = set()"
   ]
  },
  {
   "cell_type": "code",
   "execution_count": 16,
   "metadata": {},
   "outputs": [],
   "source": [
    "for q in all_questions:\n",
    "    types_set.add(q[\"type\"]) # len 10\n",
    "    difficulty_set.add(q[\"difficulty\"]) # len 10\n",
    "    category_set.add(q[\"category\"]) # 50\n",
    "    question_set.add(q[\"question\"]) # 160\n",
    "    correct_answer_set.add(q[\"correct_answer\"]) # 120\n",
    "    for a in q[\"incorrect_answers\"]:\n",
    "        incorrect_answers_set.add(a) # 120"
   ]
  },
  {
   "cell_type": "code",
   "execution_count": 22,
   "metadata": {},
   "outputs": [
    {
     "name": "stdout",
     "output_type": "stream",
     "text": [
      "113\n"
     ]
    }
   ],
   "source": [
    "max_len = 0\n",
    "for c in incorrect_answers_set:\n",
    "    max_len = max(max_len, len(c))\n",
    "print(max_len)"
   ]
  },
  {
   "cell_type": "code",
   "execution_count": 6,
   "metadata": {},
   "outputs": [],
   "source": [
    "combo_count = defaultdict(int)\n",
    "for q in all_questions:\n",
    "    # type = q[\"type\"]\n",
    "    difficulty = q[\"difficulty\"]\n",
    "    category = q[\"category\"]\n",
    "    # combo_count[(category, difficulty, type)] += 1\n",
    "    combo_count[(category, difficulty)] += 1\n"
   ]
  },
  {
   "cell_type": "code",
   "execution_count": 31,
   "metadata": {},
   "outputs": [
    {
     "data": {
      "text/plain": [
       "[(5, ('Science: Gadgets', 'hard')),\n",
       " (8, ('Celebrities', 'hard')),\n",
       " (9, ('Art', 'hard')),\n",
       " (9, ('Entertainment: Musicals &amp; Theatres', 'easy')),\n",
       " (10, ('Entertainment: Musicals &amp; Theatres', 'hard')),\n",
       " (10, ('Science: Gadgets', 'medium')),\n",
       " (11, ('Art', 'medium')),\n",
       " (13, ('Art', 'easy')),\n",
       " (13, ('Celebrities', 'easy')),\n",
       " (13, ('Entertainment: Musicals &amp; Theatres', 'medium')),\n",
       " (13, ('Mythology', 'hard')),\n",
       " (14, ('Science: Gadgets', 'easy')),\n",
       " (14, ('Science: Mathematics', 'easy')),\n",
       " (15, ('Entertainment: Board Games', 'medium')),\n",
       " (15, ('Entertainment: Comics', 'easy')),\n",
       " (15, ('Politics', 'hard')),\n",
       " (17, ('Entertainment: Cartoon &amp; Animations', 'hard')),\n",
       " (17, ('Science: Mathematics', 'hard')),\n",
       " (18, ('Animals', 'hard')),\n",
       " (18, ('Politics', 'easy')),\n",
       " (18, ('Vehicles', 'hard')),\n",
       " (19, ('Entertainment: Board Games', 'easy')),\n",
       " (19, ('Entertainment: Comics', 'hard')),\n",
       " (19, ('Mythology', 'easy')),\n",
       " (20, ('Sports', 'hard')),\n",
       " (21, ('Vehicles', 'easy')),\n",
       " (24, ('Science: Mathematics', 'medium')),\n",
       " (25, ('Entertainment: Board Games', 'hard')),\n",
       " (26, ('Mythology', 'medium')),\n",
       " (26, ('Politics', 'medium')),\n",
       " (27, ('Entertainment: Books', 'hard')),\n",
       " (28, ('Animals', 'easy')),\n",
       " (29, ('Entertainment: Television', 'hard')),\n",
       " (30, ('Animals', 'medium')),\n",
       " (31, ('Celebrities', 'medium')),\n",
       " (31, ('Entertainment: Books', 'easy')),\n",
       " (31, ('Entertainment: Cartoon &amp; Animations', 'easy')),\n",
       " (32, ('Vehicles', 'medium')),\n",
       " (34, ('Entertainment: Comics', 'medium')),\n",
       " (37, ('Science: Computers', 'hard')),\n",
       " (41, ('Entertainment: Books', 'medium')),\n",
       " (41, ('Entertainment: Cartoon &amp; Animations', 'medium')),\n",
       " (43, ('Entertainment: Film', 'hard')),\n",
       " (45, ('Entertainment: Japanese Anime &amp; Manga', 'hard')),\n",
       " (48, ('Science: Computers', 'easy')),\n",
       " (48, ('Sports', 'easy')),\n",
       " (56, ('Geography', 'hard')),\n",
       " (59, ('Entertainment: Japanese Anime &amp; Manga', 'easy')),\n",
       " (61, ('General Knowledge', 'hard')),\n",
       " (61, ('Science &amp; Nature', 'easy')),\n",
       " (65, ('Sports', 'medium')),\n",
       " (68, ('Entertainment: Music', 'hard')),\n",
       " (68, ('History', 'easy')),\n",
       " (69, ('Entertainment: Television', 'easy')),\n",
       " (69, ('Science &amp; Nature', 'hard')),\n",
       " (72, ('Entertainment: Television', 'medium')),\n",
       " (74, ('Science: Computers', 'medium')),\n",
       " (80, ('Entertainment: Japanese Anime &amp; Manga', 'medium')),\n",
       " (80, ('Geography', 'easy')),\n",
       " (80, ('History', 'hard')),\n",
       " (88, ('Entertainment: Film', 'easy')),\n",
       " (100, ('Science &amp; Nature', 'medium')),\n",
       " (110, ('Entertainment: Music', 'easy')),\n",
       " (119, ('Entertainment: Film', 'medium')),\n",
       " (124, ('General Knowledge', 'medium')),\n",
       " (128, ('General Knowledge', 'easy')),\n",
       " (139, ('Geography', 'medium')),\n",
       " (166, ('History', 'medium')),\n",
       " (189, ('Entertainment: Music', 'medium')),\n",
       " (195, ('Entertainment: Video Games', 'hard')),\n",
       " (330, ('Entertainment: Video Games', 'easy')),\n",
       " (448, ('Entertainment: Video Games', 'medium'))]"
      ]
     },
     "execution_count": 31,
     "metadata": {},
     "output_type": "execute_result"
    }
   ],
   "source": [
    "lst = []\n",
    "for key, value in combo_count.items():\n",
    "    lst.append((value, key))\n",
    "lst.sort()\n",
    "lst"
   ]
  }
 ],
 "metadata": {
  "kernelspec": {
   "display_name": "web-app-env",
   "language": "python",
   "name": "python3"
  },
  "language_info": {
   "codemirror_mode": {
    "name": "ipython",
    "version": 3
   },
   "file_extension": ".py",
   "mimetype": "text/x-python",
   "name": "python",
   "nbconvert_exporter": "python",
   "pygments_lexer": "ipython3",
   "version": "3.12.7"
  }
 },
 "nbformat": 4,
 "nbformat_minor": 2
}
