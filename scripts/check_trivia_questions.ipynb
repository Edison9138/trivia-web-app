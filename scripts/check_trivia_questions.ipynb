{
 "cells": [
  {
   "cell_type": "code",
   "execution_count": 1,
   "metadata": {},
   "outputs": [],
   "source": [
    "import pandas as pd\n",
    "from pathlib import Path\n",
    "import json\n",
    "from collections import defaultdict"
   ]
  },
  {
   "cell_type": "code",
   "execution_count": 2,
   "metadata": {},
   "outputs": [],
   "source": [
    "questions_path = Path(\"../data/trivia_questions.json\")\n",
    "with open(questions_path, \"r\") as file:\n",
    "    all_questions = json.load(file)"
   ]
  },
  {
   "cell_type": "code",
   "execution_count": 3,
   "metadata": {},
   "outputs": [],
   "source": [
    "types_set = set()\n",
    "difficulty_set = set()\n",
    "category_set = set()\n",
    "question_set = set()\n",
    "correct_answer_set = set()\n",
    "incorrect_answers_set = set()"
   ]
  },
  {
   "cell_type": "code",
   "execution_count": 4,
   "metadata": {},
   "outputs": [],
   "source": [
    "for q in all_questions:\n",
    "    types_set.add(q[\"type\"]) # len 10\n",
    "    difficulty_set.add(q[\"difficulty\"]) # len 10\n",
    "    category_set.add(q[\"category\"]) # 50\n",
    "    question_set.add(q[\"question\"]) # 160\n",
    "    correct_answer_set.add(q[\"correct_answer\"]) # 120\n",
    "    for a in q[\"incorrect_answers\"]:\n",
    "        incorrect_answers_set.add(a) # 120"
   ]
  },
  {
   "cell_type": "code",
   "execution_count": 5,
   "metadata": {},
   "outputs": [
    {
     "data": {
      "text/plain": [
       "{'Animals',\n",
       " 'Art',\n",
       " 'Celebrities',\n",
       " 'Entertainment: Board Games',\n",
       " 'Entertainment: Books',\n",
       " 'Entertainment: Cartoon &amp; Animations',\n",
       " 'Entertainment: Comics',\n",
       " 'Entertainment: Film',\n",
       " 'Entertainment: Japanese Anime &amp; Manga',\n",
       " 'Entertainment: Music',\n",
       " 'Entertainment: Musicals &amp; Theatres',\n",
       " 'Entertainment: Television',\n",
       " 'Entertainment: Video Games',\n",
       " 'General Knowledge',\n",
       " 'Geography',\n",
       " 'History',\n",
       " 'Mythology',\n",
       " 'Politics',\n",
       " 'Science &amp; Nature',\n",
       " 'Science: Computers',\n",
       " 'Science: Gadgets',\n",
       " 'Science: Mathematics',\n",
       " 'Sports',\n",
       " 'Vehicles'}"
      ]
     },
     "execution_count": 5,
     "metadata": {},
     "output_type": "execute_result"
    }
   ],
   "source": [
    "category_set"
   ]
  },
  {
   "cell_type": "code",
   "execution_count": 6,
   "metadata": {},
   "outputs": [
    {
     "name": "stdout",
     "output_type": "stream",
     "text": [
      "113\n"
     ]
    }
   ],
   "source": [
    "max_len = 0\n",
    "for c in incorrect_answers_set:\n",
    "    max_len = max(max_len, len(c))\n",
    "print(max_len)"
   ]
  },
  {
   "cell_type": "code",
   "execution_count": 7,
   "metadata": {},
   "outputs": [],
   "source": [
    "combo_count = defaultdict(int)\n",
    "for q in all_questions:\n",
    "    type = q[\"type\"]\n",
    "    difficulty = q[\"difficulty\"]\n",
    "    category = q[\"category\"]\n",
    "    combo_count[(category, difficulty, type)] += 1\n",
    "    # combo_count[(category, difficulty)] += 1\n"
   ]
  },
  {
   "cell_type": "code",
   "execution_count": 8,
   "metadata": {},
   "outputs": [
    {
     "data": {
      "text/plain": [
       "[(1, ('Art', 'hard', 'boolean')),\n",
       " (1, ('Celebrities', 'hard', 'boolean')),\n",
       " (1, ('Celebrities', 'medium', 'boolean')),\n",
       " (1, ('Entertainment: Board Games', 'hard', 'boolean')),\n",
       " (1, ('Entertainment: Books', 'medium', 'boolean')),\n",
       " (1, ('Entertainment: Comics', 'hard', 'boolean')),\n",
       " (1, ('Entertainment: Comics', 'medium', 'boolean')),\n",
       " (1, ('Entertainment: Musicals &amp; Theatres', 'hard', 'boolean')),\n",
       " (1, ('Entertainment: Television', 'hard', 'boolean')),\n",
       " (1, ('Science: Gadgets', 'medium', 'boolean')),\n",
       " (2, ('Art', 'easy', 'boolean')),\n",
       " (2, ('Celebrities', 'easy', 'boolean')),\n",
       " (2, ('Entertainment: Board Games', 'medium', 'boolean')),\n",
       " (2, ('Entertainment: Books', 'hard', 'boolean')),\n",
       " (2, ('Entertainment: Comics', 'easy', 'boolean')),\n",
       " (2, ('Entertainment: Musicals &amp; Theatres', 'easy', 'boolean')),\n",
       " (2, ('Mythology', 'hard', 'boolean')),\n",
       " (2, ('Science: Gadgets', 'easy', 'boolean')),\n",
       " (2, ('Vehicles', 'easy', 'boolean')),\n",
       " (2, ('Vehicles', 'hard', 'boolean')),\n",
       " (3, ('Art', 'medium', 'boolean')),\n",
       " (3, ('Entertainment: Cartoon &amp; Animations', 'easy', 'boolean')),\n",
       " (3, ('Entertainment: Film', 'hard', 'boolean')),\n",
       " (3, ('Geography', 'hard', 'boolean')),\n",
       " (3, ('Politics', 'hard', 'boolean')),\n",
       " (3, ('Science &amp; Nature', 'hard', 'boolean')),\n",
       " (3, ('Science: Computers', 'hard', 'boolean')),\n",
       " (4, ('Mythology', 'easy', 'boolean')),\n",
       " (4, ('Mythology', 'medium', 'boolean')),\n",
       " (4, ('Science: Mathematics', 'hard', 'boolean')),\n",
       " (5, ('Entertainment: Board Games', 'easy', 'boolean')),\n",
       " (5, ('Entertainment: Japanese Anime &amp; Manga', 'medium', 'boolean')),\n",
       " (5, ('Entertainment: Music', 'hard', 'boolean')),\n",
       " (5, ('Politics', 'medium', 'boolean')),\n",
       " (5, ('Science: Gadgets', 'hard', 'multiple')),\n",
       " (5, ('Sports', 'easy', 'boolean')),\n",
       " (6, ('Entertainment: Japanese Anime &amp; Manga', 'hard', 'boolean')),\n",
       " (6, ('Entertainment: Television', 'easy', 'boolean')),\n",
       " (6, ('General Knowledge', 'hard', 'boolean')),\n",
       " (6, ('Science: Mathematics', 'easy', 'boolean')),\n",
       " (7, ('Celebrities', 'hard', 'multiple')),\n",
       " (7, ('Entertainment: Books', 'easy', 'boolean')),\n",
       " (7, ('Entertainment: Cartoon &amp; Animations', 'medium', 'boolean')),\n",
       " (7, ('Entertainment: Film', 'medium', 'boolean')),\n",
       " (7, ('Entertainment: Musicals &amp; Theatres', 'easy', 'multiple')),\n",
       " (8, ('Animals', 'medium', 'boolean')),\n",
       " (8, ('Art', 'hard', 'multiple')),\n",
       " (8, ('Art', 'medium', 'multiple')),\n",
       " (8, ('History', 'hard', 'boolean')),\n",
       " (8, ('Politics', 'easy', 'multiple')),\n",
       " (8, ('Science: Mathematics', 'easy', 'multiple')),\n",
       " (8, ('Science: Mathematics', 'medium', 'boolean')),\n",
       " (9, ('Entertainment: Musicals &amp; Theatres', 'hard', 'multiple')),\n",
       " (9, ('Science: Gadgets', 'medium', 'multiple')),\n",
       " (9, ('Sports', 'medium', 'boolean')),\n",
       " (9, ('Vehicles', 'medium', 'boolean')),\n",
       " (10, ('Politics', 'easy', 'boolean')),\n",
       " (11, ('Art', 'easy', 'multiple')),\n",
       " (11, ('Celebrities', 'easy', 'multiple')),\n",
       " (11, ('Entertainment: Television', 'medium', 'boolean')),\n",
       " (11, ('Mythology', 'hard', 'multiple')),\n",
       " (11, ('Science &amp; Nature', 'easy', 'boolean')),\n",
       " (12, ('Politics', 'hard', 'multiple')),\n",
       " (12, ('Science: Gadgets', 'easy', 'multiple')),\n",
       " (13, ('Animals', 'easy', 'multiple')),\n",
       " (13, ('Entertainment: Board Games', 'medium', 'multiple')),\n",
       " (13, ('Entertainment: Comics', 'easy', 'multiple')),\n",
       " (13, ('Entertainment: Musicals &amp; Theatres', 'medium', 'multiple')),\n",
       " (13, ('Science: Mathematics', 'hard', 'multiple')),\n",
       " (14, ('Entertainment: Board Games', 'easy', 'multiple')),\n",
       " (14, ('Entertainment: Japanese Anime &amp; Manga', 'easy', 'boolean')),\n",
       " (14, ('Science: Computers', 'easy', 'boolean')),\n",
       " (15, ('Animals', 'easy', 'boolean')),\n",
       " (15, ('History', 'easy', 'boolean')),\n",
       " (15, ('Mythology', 'easy', 'multiple')),\n",
       " (16, ('Entertainment: Video Games', 'hard', 'boolean')),\n",
       " (16, ('Science: Mathematics', 'medium', 'multiple')),\n",
       " (16, ('Vehicles', 'hard', 'multiple')),\n",
       " (17, ('Entertainment: Cartoon &amp; Animations', 'hard', 'multiple')),\n",
       " (17, ('Entertainment: Music', 'easy', 'boolean')),\n",
       " (18, ('Animals', 'hard', 'multiple')),\n",
       " (18, ('Entertainment: Comics', 'hard', 'multiple')),\n",
       " (18, ('Science: Computers', 'medium', 'boolean')),\n",
       " (19, ('Geography', 'easy', 'boolean')),\n",
       " (19, ('Vehicles', 'easy', 'multiple')),\n",
       " (20, ('Entertainment: Film', 'easy', 'boolean')),\n",
       " (20, ('Geography', 'medium', 'boolean')),\n",
       " (20, ('History', 'medium', 'boolean')),\n",
       " (20, ('Science &amp; Nature', 'medium', 'boolean')),\n",
       " (20, ('Sports', 'hard', 'multiple')),\n",
       " (21, ('Entertainment: Music', 'medium', 'boolean')),\n",
       " (21, ('Politics', 'medium', 'multiple')),\n",
       " (22, ('Animals', 'medium', 'multiple')),\n",
       " (22, ('Mythology', 'medium', 'multiple')),\n",
       " (23, ('Vehicles', 'medium', 'multiple')),\n",
       " (24, ('Entertainment: Board Games', 'hard', 'multiple')),\n",
       " (24, ('Entertainment: Books', 'easy', 'multiple')),\n",
       " (25, ('Entertainment: Books', 'hard', 'multiple')),\n",
       " (28, ('Entertainment: Cartoon &amp; Animations', 'easy', 'multiple')),\n",
       " (28, ('Entertainment: Television', 'hard', 'multiple')),\n",
       " (30, ('Celebrities', 'medium', 'multiple')),\n",
       " (30, ('General Knowledge', 'medium', 'boolean')),\n",
       " (31, ('General Knowledge', 'easy', 'boolean')),\n",
       " (33, ('Entertainment: Comics', 'medium', 'multiple')),\n",
       " (34, ('Entertainment: Cartoon &amp; Animations', 'medium', 'multiple')),\n",
       " (34, ('Science: Computers', 'easy', 'multiple')),\n",
       " (34, ('Science: Computers', 'hard', 'multiple')),\n",
       " (39, ('Entertainment: Japanese Anime &amp; Manga', 'hard', 'multiple')),\n",
       " (40, ('Entertainment: Books', 'medium', 'multiple')),\n",
       " (40, ('Entertainment: Film', 'hard', 'multiple')),\n",
       " (43, ('Sports', 'easy', 'multiple')),\n",
       " (45, ('Entertainment: Japanese Anime &amp; Manga', 'easy', 'multiple')),\n",
       " (45, ('Entertainment: Video Games', 'medium', 'boolean')),\n",
       " (50, ('Science &amp; Nature', 'easy', 'multiple')),\n",
       " (53, ('Geography', 'hard', 'multiple')),\n",
       " (53, ('History', 'easy', 'multiple')),\n",
       " (55, ('General Knowledge', 'hard', 'multiple')),\n",
       " (56, ('Science: Computers', 'medium', 'multiple')),\n",
       " (56, ('Sports', 'medium', 'multiple')),\n",
       " (61, ('Entertainment: Television', 'medium', 'multiple')),\n",
       " (61, ('Geography', 'easy', 'multiple')),\n",
       " (63, ('Entertainment: Music', 'hard', 'multiple')),\n",
       " (63, ('Entertainment: Television', 'easy', 'multiple')),\n",
       " (66, ('Science &amp; Nature', 'hard', 'multiple')),\n",
       " (68, ('Entertainment: Film', 'easy', 'multiple')),\n",
       " (72, ('History', 'hard', 'multiple')),\n",
       " (75, ('Entertainment: Japanese Anime &amp; Manga', 'medium', 'multiple')),\n",
       " (75, ('Entertainment: Video Games', 'easy', 'boolean')),\n",
       " (80, ('Science &amp; Nature', 'medium', 'multiple')),\n",
       " (93, ('Entertainment: Music', 'easy', 'multiple')),\n",
       " (94, ('General Knowledge', 'medium', 'multiple')),\n",
       " (97, ('General Knowledge', 'easy', 'multiple')),\n",
       " (112, ('Entertainment: Film', 'medium', 'multiple')),\n",
       " (119, ('Geography', 'medium', 'multiple')),\n",
       " (146, ('History', 'medium', 'multiple')),\n",
       " (168, ('Entertainment: Music', 'medium', 'multiple')),\n",
       " (179, ('Entertainment: Video Games', 'hard', 'multiple')),\n",
       " (255, ('Entertainment: Video Games', 'easy', 'multiple')),\n",
       " (403, ('Entertainment: Video Games', 'medium', 'multiple'))]"
      ]
     },
     "execution_count": 8,
     "metadata": {},
     "output_type": "execute_result"
    }
   ],
   "source": [
    "lst = []\n",
    "for key, value in combo_count.items():\n",
    "    lst.append((value, key))\n",
    "lst.sort()\n",
    "lst"
   ]
  }
 ],
 "metadata": {
  "kernelspec": {
   "display_name": "web-app-env",
   "language": "python",
   "name": "python3"
  },
  "language_info": {
   "codemirror_mode": {
    "name": "ipython",
    "version": 3
   },
   "file_extension": ".py",
   "mimetype": "text/x-python",
   "name": "python",
   "nbconvert_exporter": "python",
   "pygments_lexer": "ipython3",
   "version": "3.12.7"
  }
 },
 "nbformat": 4,
 "nbformat_minor": 2
}
